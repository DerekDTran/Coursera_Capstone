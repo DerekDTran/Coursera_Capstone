{
 "cells": [
  {
   "cell_type": "markdown",
   "metadata": {},
   "source": [
    "# Business Problem"
   ]
  },
  {
   "cell_type": "markdown",
   "metadata": {},
   "source": [
    "For my project, my business problem is focused on the scenario where a contractor is looking to open a new business in New York City. The contractor wants to open a cafe and believes looking for a neighborhood with a large population could prove beneficial to getting customers. Additional information to consider would be income and fmaily demographics as business is aimed towards families."
   ]
  },
  {
   "cell_type": "markdown",
   "metadata": {},
   "source": [
    "# Data"
   ]
  },
  {
   "cell_type": "markdown",
   "metadata": {},
   "source": [
    "The New York City data is available at 'https://data.cityofnewyork.us/Housing-Development/NYCHA-Development-Data-Book/evjd-dqpz'. This dataset provides demographic features taken from families throughout New York City. With FourSquare API, I can sort through the different demographic features and collect information grouped by borough. I can even sort information from largest average gross income to smallest to provide some insight on which borough is the most ideal for a new business."
   ]
  }
 ],
 "metadata": {
  "kernelspec": {
   "display_name": "Python 3",
   "language": "python",
   "name": "python3"
  },
  "language_info": {
   "codemirror_mode": {
    "name": "ipython",
    "version": 3
   },
   "file_extension": ".py",
   "mimetype": "text/x-python",
   "name": "python",
   "nbconvert_exporter": "python",
   "pygments_lexer": "ipython3",
   "version": "3.7.4"
  }
 },
 "nbformat": 4,
 "nbformat_minor": 2
}
